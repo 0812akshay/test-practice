{
  "nbformat": 4,
  "nbformat_minor": 0,
  "metadata": {
    "colab": {
      "name": "Heap Tree Program.ipynb",
      "provenance": []
    },
    "kernelspec": {
      "name": "python3",
      "display_name": "Python 3"
    },
    "language_info": {
      "name": "python"
    }
  },
  "cells": [
    {
      "cell_type": "code",
      "execution_count": null,
      "metadata": {
        "id": "hAY7dBLdbz7m"
      },
      "outputs": [],
      "source": [
        "class tree:\n",
        "  def __init__(self,dataval=None):\n",
        "    self.data=dataval\n",
        "    self.left=None\n",
        "    self.right=None\n",
        "  def print_tree(self):\n",
        "     if self.left:\n",
        "       self.left.print_tree()\n",
        "     print(self.data)\n",
        "     if self.right:\n",
        "       self.right.print_tree()   \n",
        "  def insert_tree(self,dataval):\n",
        "    if self.data:\n",
        "      if dataval<self.data:\n",
        "        if self.left==None:\n",
        "          self.left=tree(dataval)\n",
        "        else:\n",
        "          self.left.insert_tree(dataval)\n",
        "      elif dataval>self.data:\n",
        "        if self.right==None:\n",
        "          self.right=tree(dataval)\n",
        "        else:\n",
        "          self.right.insert_tree(dataval)\n",
        "    else:\n",
        "      self.data=dataval"
      ]
    },
    {
      "cell_type": "code",
      "source": [
        "# Parent Node\n",
        "x=tree(20)"
      ],
      "metadata": {
        "id": "w91WLzdbb2SL"
      },
      "execution_count": null,
      "outputs": []
    },
    {
      "cell_type": "code",
      "source": [
        "x.insert_tree(5)"
      ],
      "metadata": {
        "id": "f_SvjIWWb4mI"
      },
      "execution_count": null,
      "outputs": []
    },
    {
      "cell_type": "code",
      "source": [
        "x.data,x.left,x.right,x.right.data"
      ],
      "metadata": {
        "id": "oIJDCKMnb8eS"
      },
      "execution_count": null,
      "outputs": []
    },
    {
      "cell_type": "code",
      "source": [
        "x.insert_tree(15)"
      ],
      "metadata": {
        "id": "TDUJBHheb-KB"
      },
      "execution_count": null,
      "outputs": []
    },
    {
      "cell_type": "code",
      "source": [
        "x.data,x.left,x.right,x.right.data,x.left.data"
      ],
      "metadata": {
        "id": "xx2rfdF7b_8J"
      },
      "execution_count": null,
      "outputs": []
    },
    {
      "cell_type": "code",
      "source": [
        "x.print_tree()"
      ],
      "metadata": {
        "id": "JPPTGn7FcBiN"
      },
      "execution_count": null,
      "outputs": []
    }
  ]
}